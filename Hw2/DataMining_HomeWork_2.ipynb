{
 "cells": [
  {
   "cell_type": "markdown",
   "metadata": {},
   "source": [
    "# Data Mining Homework 2"
   ]
  },
  {
   "cell_type": "code",
   "execution_count": 1,
   "metadata": {
    "collapsed": false
   },
   "outputs": [
    {
     "name": "stderr",
     "output_type": "stream",
     "text": [
      "/home/lego/Venvs/dataMining/lib/python3.5/site-packages/sklearn/cross_validation.py:44: DeprecationWarning: This module was deprecated in version 0.18 in favor of the model_selection module into which all the refactored classes and functions are moved. Also note that the interface of the new CV iterators are different from that of this module. This module will be removed in 0.20.\n",
      "  \"This module will be removed in 0.20.\", DeprecationWarning)\n"
     ]
    }
   ],
   "source": [
    "from datetime import datetime\n",
    "import random\n",
    "\n",
    "import pandas as pd\n",
    "import numpy as np\n",
    "import matplotlib.pyplot as plt\n",
    "from scipy.spatial.distance import cdist, pdist\n",
    "\n",
    "from sklearn.linear_model import LogisticRegression\n",
    "from sklearn.neighbors import KNeighborsClassifier\n",
    "from sklearn.naive_bayes import GaussianNB\n",
    "from sklearn.ensemble import RandomForestClassifier\n",
    "from sklearn.svm import SVC\n",
    "\n",
    "from sklearn.cluster import KMeans\n",
    "\n",
    "from sklearn.cross_validation import train_test_split\n",
    "from sklearn.metrics import (accuracy_score, precision_score, recall_score,\n",
    "                             roc_curve, confusion_matrix)\n",
    "\n",
    "%matplotlib inline"
   ]
  },
  {
   "cell_type": "code",
   "execution_count": 2,
   "metadata": {
    "collapsed": true
   },
   "outputs": [],
   "source": [
    "TRAIN_TEST_RATIO = 0.7\n",
    "RANDSEED = int(datetime.now().timestamp())"
   ]
  },
  {
   "cell_type": "code",
   "execution_count": 3,
   "metadata": {
    "collapsed": false
   },
   "outputs": [],
   "source": [
    "df = pd.read_excel('./default of credit card clients.xls', header=1)"
   ]
  },
  {
   "cell_type": "markdown",
   "metadata": {},
   "source": [
    "## Problem 1\n",
    "Split the data randomly to training data and test data ( 70% / 30% )"
   ]
  },
  {
   "cell_type": "code",
   "execution_count": 4,
   "metadata": {
    "collapsed": false
   },
   "outputs": [],
   "source": [
    "df_train, df_test = train_test_split(df,\n",
    "                                     train_size=TRAIN_TEST_RATIO,\n",
    "                                     random_state=RANDSEED)\n",
    "\n",
    "sr_train_id = df_train.pop(\"ID\")\n",
    "sr_train_y = df_train.pop(\"default payment next month\")\n",
    "\n",
    "sr_test_id = df_test.pop(\"ID\")\n",
    "sr_test_y = df_test.pop(\"default payment next month\")"
   ]
  },
  {
   "cell_type": "code",
   "execution_count": 5,
   "metadata": {
    "collapsed": false
   },
   "outputs": [
    {
     "data": {
      "text/plain": [
       "(21000, 23)"
      ]
     },
     "execution_count": 5,
     "metadata": {},
     "output_type": "execute_result"
    }
   ],
   "source": [
    "df_train.shape"
   ]
  },
  {
   "cell_type": "code",
   "execution_count": 6,
   "metadata": {
    "collapsed": false
   },
   "outputs": [
    {
     "data": {
      "text/plain": [
       "(9000, 23)"
      ]
     },
     "execution_count": 6,
     "metadata": {},
     "output_type": "execute_result"
    }
   ],
   "source": [
    "df_test.shape"
   ]
  },
  {
   "cell_type": "markdown",
   "metadata": {},
   "source": [
    "## Problem 2\n",
    "What is the accuracy of (1) Logistic Regression (2) k-Nearest Neighbors\n",
    "(3) Naive Bayes (4) Random Forest (5) SVM model in test data"
   ]
  },
  {
   "cell_type": "code",
   "execution_count": 7,
   "metadata": {
    "collapsed": true
   },
   "outputs": [],
   "source": [
    "clfs = [\n",
    "    (LogisticRegression(), \"Logistic Regression\"),\n",
    "    (KNeighborsClassifier(), \"k-Nearest Neighbors\"),\n",
    "    (GaussianNB(), \"Naive Bayes\"),\n",
    "    (RandomForestClassifier(), \"Random Forest\"),\n",
    "    (SVC(), \"SVM\")\n",
    "]\n",
    "LR = 0\n",
    "KNN = 1\n",
    "NB = 2\n",
    "RF = 3\n",
    "SVM = 4"
   ]
  },
  {
   "cell_type": "code",
   "execution_count": 8,
   "metadata": {
    "collapsed": false,
    "scrolled": true
   },
   "outputs": [
    {
     "data": {
      "text/html": [
       "<div>\n",
       "<table border=\"1\" class=\"dataframe\">\n",
       "  <thead>\n",
       "    <tr style=\"text-align: right;\">\n",
       "      <th></th>\n",
       "      <th>Method</th>\n",
       "      <th>Accuracy</th>\n",
       "    </tr>\n",
       "  </thead>\n",
       "  <tbody>\n",
       "    <tr>\n",
       "      <th>0</th>\n",
       "      <td>Logistic Regression</td>\n",
       "      <td>0.775889</td>\n",
       "    </tr>\n",
       "    <tr>\n",
       "      <th>1</th>\n",
       "      <td>k-Nearest Neighbors</td>\n",
       "      <td>0.751778</td>\n",
       "    </tr>\n",
       "    <tr>\n",
       "      <th>2</th>\n",
       "      <td>Naive Bayes</td>\n",
       "      <td>0.381444</td>\n",
       "    </tr>\n",
       "    <tr>\n",
       "      <th>3</th>\n",
       "      <td>Random Forest</td>\n",
       "      <td>0.803556</td>\n",
       "    </tr>\n",
       "    <tr>\n",
       "      <th>4</th>\n",
       "      <td>SVM</td>\n",
       "      <td>0.777556</td>\n",
       "    </tr>\n",
       "  </tbody>\n",
       "</table>\n",
       "</div>"
      ],
      "text/plain": [
       "                Method  Accuracy\n",
       "0  Logistic Regression  0.775889\n",
       "1  k-Nearest Neighbors  0.751778\n",
       "2          Naive Bayes  0.381444\n",
       "3        Random Forest  0.803556\n",
       "4                  SVM  0.777556"
      ]
     },
     "execution_count": 8,
     "metadata": {},
     "output_type": "execute_result"
    }
   ],
   "source": [
    "df_acy = pd.DataFrame(columns=[\"Method\", \"Accuracy\"])\n",
    "\n",
    "predicted_result_to = []\n",
    "\n",
    "for clf, name in clfs:\n",
    "    clf.fit(df_train, sr_train_y)\n",
    "    predicted = clf.predict(df_test)\n",
    "    df_acy = df_acy.append([\n",
    "            {\n",
    "                \"Method\": name,\n",
    "                \"Accuracy\": accuracy_score(sr_test_y, predicted)\n",
    "            }],ignore_index=True)\n",
    "    predicted_result_to.append(predicted)\n",
    "df_acy"
   ]
  },
  {
   "cell_type": "markdown",
   "metadata": {},
   "source": [
    "## Problem 3\n",
    "Draw the ROC curve in Logistic Regression"
   ]
  },
  {
   "cell_type": "code",
   "execution_count": 9,
   "metadata": {
    "collapsed": false
   },
   "outputs": [],
   "source": [
    "logreg = clfs[LR][0]\n",
    "score = logreg.decision_function(df_test)\n",
    "fpr, tpr, thresholds = roc_curve(sr_test_y, score)"
   ]
  },
  {
   "cell_type": "code",
   "execution_count": 10,
   "metadata": {
    "collapsed": false
   },
   "outputs": [
    {
     "data": {
      "image/png": "[encoded data removed]",
      "text/plain": [
       "<matplotlib.figure.Figure at 0x7f8c911d7320>"
      ]
     },
     "metadata": {},
     "output_type": "display_data"
    }
   ],
   "source": [
    "plt.figure()\n",
    "plt.plot(fpr, tpr, color='darkblue', lw=1, label=\"ROC curve\")\n",
    "plt.plot([0, 1], [0, 1], color='black', lw=1, linestyle='--')\n",
    "plt.xlim([0.0, 1.0])\n",
    "plt.ylim([0.0, 1.05])\n",
    "plt.xlabel('False Positive Rate')\n",
    "plt.ylabel('True Positive Rate')\n",
    "plt.title('Receiver Operating Characteristic')\n",
    "plt.legend(loc=\"lower right\")\n",
    "plt.show()"
   ]
  },
  {
   "cell_type": "markdown",
   "metadata": {},
   "source": [
    "## Problem 4\n",
    "Calculate the precision and recall in k-Nearest Neighbors"
   ]
  },
  {
   "cell_type": "code",
   "execution_count": 11,
   "metadata": {
    "collapsed": false
   },
   "outputs": [
    {
     "name": "stdout",
     "output_type": "stream",
     "text": [
      "Precision Score : 0.37628\n",
      "Recall    Score : 0.16361\n"
     ]
    }
   ],
   "source": [
    "print (\"Precision Score : {0:.5f}\".format(\n",
    "        precision_score(\n",
    "            sr_test_y,\n",
    "            predicted_result_to[KNN]\n",
    "        )))\n",
    "print (\"Recall    Score : {0:.5f}\".format(\n",
    "        recall_score(\n",
    "            sr_test_y,\n",
    "            predicted_result_to[KNN]\n",
    "        )))"
   ]
  },
  {
   "cell_type": "markdown",
   "metadata": {},
   "source": [
    "## Problem 5\n",
    "Draw the Confusion Matrix of Naive Bayes"
   ]
  },
  {
   "cell_type": "code",
   "execution_count": 12,
   "metadata": {
    "collapsed": false
   },
   "outputs": [
    {
     "data": {
      "text/html": [
       "<div>\n",
       "<table border=\"1\" class=\"dataframe\">\n",
       "  <thead>\n",
       "    <tr style=\"text-align: right;\">\n",
       "      <th></th>\n",
       "      <th>0</th>\n",
       "      <th>1</th>\n",
       "    </tr>\n",
       "  </thead>\n",
       "  <tbody>\n",
       "    <tr>\n",
       "      <th>0</th>\n",
       "      <td>1685</td>\n",
       "      <td>5298</td>\n",
       "    </tr>\n",
       "    <tr>\n",
       "      <th>1</th>\n",
       "      <td>269</td>\n",
       "      <td>1748</td>\n",
       "    </tr>\n",
       "  </tbody>\n",
       "</table>\n",
       "</div>"
      ],
      "text/plain": [
       "      0     1\n",
       "0  1685  5298\n",
       "1   269  1748"
      ]
     },
     "execution_count": 12,
     "metadata": {},
     "output_type": "execute_result"
    }
   ],
   "source": [
    "pd.DataFrame(\n",
    "    confusion_matrix(\n",
    "        sr_test_y,\n",
    "        predicted_result_to[NB]\n",
    "    ))"
   ]
  },
  {
   "cell_type": "markdown",
   "metadata": {},
   "source": [
    "## Problem 6\n",
    "What is the performance with different parameters in SVM"
   ]
  },
  {
   "cell_type": "code",
   "execution_count": 13,
   "metadata": {
    "collapsed": false
   },
   "outputs": [],
   "source": [
    "def rand_svm_param(**kwargs):\n",
    "    params = {\n",
    "        'C': random.random(),\n",
    "        'kernel': random.choice(['rbf','linear','poly','sigmoid']),\n",
    "        'degree': random.randint(1,3),\n",
    "        'coef0': random.random(),\n",
    "        'probability': random.choice([True, False]),\n",
    "        'shrinking': random.choice([True, False]),\n",
    "        'decision_function_shape': random.choice(['ovo','ovr',None]),\n",
    "        'random_state': int(datetime.now().timestamp())\n",
    "    }\n",
    "    params.update(kwargs)\n",
    "    return params"
   ]
  },
  {
   "cell_type": "code",
   "execution_count": 14,
   "metadata": {
    "collapsed": false
   },
   "outputs": [],
   "source": [
    "SIZE = 4\n",
    "diff_svm_params = [rand_svm_param() for _ in range(SIZE)]\n",
    "clfs = [SVC(**diff_svm_params[i]) for i in range(SIZE)]\n",
    "predicts = [None for _ in range(SIZE)]"
   ]
  },
  {
   "cell_type": "code",
   "execution_count": 15,
   "metadata": {
    "collapsed": false
   },
   "outputs": [],
   "source": [
    "def fit_SVC(order):\n",
    "    clfs[order].fit(df_train, sr_train_y)\n",
    "    return"
   ]
  },
  {
   "cell_type": "code",
   "execution_count": null,
   "metadata": {
    "collapsed": false
   },
   "outputs": [],
   "source": [
    "from threading import Thread\n",
    "\n",
    "tasks = []\n",
    "\n",
    "for i in range(SIZE):\n",
    "    t = Thread(target=fit_SVC, args=(i,))\n",
    "    t.start()\n",
    "    tasks.append(t)\n",
    "\n",
    "for t in tasks:\n",
    "    t.join()\n",
    "\n",
    "for i, clf in enumerate(clfs):\n",
    "    predicts[i] = clf.predict(df_test)"
   ]
  },
  {
   "cell_type": "code",
   "execution_count": null,
   "metadata": {
    "collapsed": false
   },
   "outputs": [],
   "source": [
    "# Perform data\n",
    "pd.DataFrame(\n",
    "    data= {\n",
    "        'kernel': [parm['kernel'] for parm in diff_svm_params],\n",
    "        'C': [parm['C'] for parm in diff_svm_params],\n",
    "        'degree': [parm['degree'] for parm in diff_svm_params],\n",
    "        'coef0': [parm['coef0'] for parm in diff_svm_params],\n",
    "        'probability': [parm['probability'] for parm in diff_svm_params],\n",
    "        'shrinking': [parm['shrinking'] for parm in diff_svm_params],\n",
    "        'decision_function_shape': [parm['decision_function_shape'] for parm in diff_svm_params],\n",
    "        'random_state': [parm['random_state'] for parm in diff_svm_params],\n",
    "        'Accuracy': [accuracy_score(p,sr_test_y) for p in  predicts]\n",
    "    },\n",
    "    columns= ['kernel','C','degree','coef0','probability','shrinking','decision_function_shape','random_state','Accuracy']\n",
    ")"
   ]
  },
  {
   "cell_type": "markdown",
   "metadata": {},
   "source": [
    "## Problem 7\n",
    "According to Gender, Education, and Marital status, how many kinds of\n",
    "customer should be divided into?"
   ]
  },
  {
   "cell_type": "code",
   "execution_count": 81,
   "metadata": {
    "collapsed": false
   },
   "outputs": [],
   "source": [
    "df_g_e_m = df[[\"SEX\", \"EDUCATION\", \"MARRIAGE\"]]\n",
    "\n",
    "NUMBER_OF_K = 10\n",
    "\n",
    "avg_sum_of_squares = [None for _ in range(NUMBER_OF_K)]"
   ]
  },
  {
   "cell_type": "code",
   "execution_count": 82,
   "metadata": {
    "collapsed": false
   },
   "outputs": [],
   "source": [
    "for i in range(1, NUMBER_OF_K):\n",
    "    clf = KMeans(n_clusters=i).fit(df_g_e_m)\n",
    "    dist_from_center = cdist(df_g_e_m.values, clf.cluster_centers_)\n",
    "    dist = np.array([min(d) for d in dist_from_center])\n",
    "    avg_sum_of_squares[i] = sum(dist**2) / dist.shape[0]"
   ]
  },
  {
   "cell_type": "code",
   "execution_count": 83,
   "metadata": {
    "collapsed": false
   },
   "outputs": [
    {
     "data": {
      "image/png": "[encoded data removed]",
      "text/plain": [
       "<matplotlib.figure.Figure at 0x7f8c92dbd0f0>"
      ]
     },
     "metadata": {},
     "output_type": "display_data"
    }
   ],
   "source": [
    "plt.title(\"Elbow method\")\n",
    "plt.xlabel(\"Number of clusters\")\n",
    "plt.ylabel(\"Average Within-Cluster Sum of Squares\")\n",
    "plt.grid(True)\n",
    "plt.plot(avg_sum_of_squares, marker='o')\n",
    "plt.show()"
   ]
  },
  {
   "cell_type": "markdown",
   "metadata": {},
   "source": [
    "## Problem 8"
   ]
  }
 ],
 "metadata": {
  "kernelspec": {
   "display_name": "Python 3",
   "language": "python",
   "name": "python3"
  },
  "language_info": {
   "codemirror_mode": {
    "name": "ipython",
    "version": 3
   },
   "file_extension": ".py",
   "mimetype": "text/x-python",
   "name": "python",
   "nbconvert_exporter": "python",
   "pygments_lexer": "ipython3",
   "version": "3.5.2"
  }
 },
 "nbformat": 4,
 "nbformat_minor": 1
}
